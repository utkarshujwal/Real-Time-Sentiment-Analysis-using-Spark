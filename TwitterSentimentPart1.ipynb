{
  "nbformat": 4,
  "nbformat_minor": 0,
  "metadata": {
    "colab": {
      "name": "TwitterSentimentPart1.ipynb",
      "provenance": [],
      "collapsed_sections": [],
      "toc_visible": true
    },
    "kernelspec": {
      "name": "python3",
      "display_name": "Python 3"
    }
  },
  "cells": [
    {
      "cell_type": "code",
      "metadata": {
        "colab": {
          "base_uri": "https://localhost:8080/"
        },
        "id": "v0RF233vUx07",
        "outputId": "55f8edaf-8adf-4200-fc79-2a5b43366fcd"
      },
      "source": [
        "!pip install pyspark"
      ],
      "execution_count": null,
      "outputs": [
        {
          "output_type": "stream",
          "text": [
            "Collecting pyspark\n",
            "\u001b[?25l  Downloading https://files.pythonhosted.org/packages/f0/26/198fc8c0b98580f617cb03cb298c6056587b8f0447e20fa40c5b634ced77/pyspark-3.0.1.tar.gz (204.2MB)\n",
            "\u001b[K     |████████████████████████████████| 204.2MB 61kB/s \n",
            "\u001b[?25hCollecting py4j==0.10.9\n",
            "\u001b[?25l  Downloading https://files.pythonhosted.org/packages/9e/b6/6a4fb90cd235dc8e265a6a2067f2a2c99f0d91787f06aca4bcf7c23f3f80/py4j-0.10.9-py2.py3-none-any.whl (198kB)\n",
            "\u001b[K     |████████████████████████████████| 204kB 46.6MB/s \n",
            "\u001b[?25hBuilding wheels for collected packages: pyspark\n",
            "  Building wheel for pyspark (setup.py) ... \u001b[?25l\u001b[?25hdone\n",
            "  Created wheel for pyspark: filename=pyspark-3.0.1-py2.py3-none-any.whl size=204612243 sha256=936f18019b2bd0a149775f34934717e1af0708450dc8cd8d65785b96099f3183\n",
            "  Stored in directory: /root/.cache/pip/wheels/5e/bd/07/031766ca628adec8435bb40f0bd83bb676ce65ff4007f8e73f\n",
            "Successfully built pyspark\n",
            "Installing collected packages: py4j, pyspark\n",
            "Successfully installed py4j-0.10.9 pyspark-3.0.1\n"
          ],
          "name": "stdout"
        }
      ]
    },
    {
      "cell_type": "code",
      "metadata": {
        "id": "Zf3D9JSwIXVP"
      },
      "source": [
        "import tweepy\n",
        "from tweepy import OAuthHandler\n",
        "import csv\n",
        "import time\n",
        "from tweepy import Stream\n",
        "from tweepy import OAuthHandler\n",
        "from tweepy.streaming import StreamListener\n",
        "from pyspark.sql import Row\n",
        "from pyspark import SparkContext\n",
        "from pyspark.sql import SQLContext"
      ],
      "execution_count": null,
      "outputs": []
    },
    {
      "cell_type": "code",
      "metadata": {
        "id": "P-S6i5EqIfJH"
      },
      "source": [
        "consumer_key = 'c4cK1xqfC3MocKF4gPwE0vHFH'\n",
        "consumer_secret = 's6T5kM503GQ49mE2ZRNNUtz7VRTNCqHsox1gVOPRFmSv5CHwSV'\n",
        "access_token = '1244402689175420929-BilxLAuVQotLB4HMAWuECgnuCQewmY'\n",
        "access_secret = 'sm8ygnOT7Xzjb2iaZL95yR5oPWpJQKIwu7PNgBs8BOnRJ'\n",
        "\n",
        "auth = tweepy.AppAuthHandler(consumer_key, consumer_secret)\n",
        "api = tweepy.API(auth, wait_on_rate_limit=True, wait_on_rate_limit_notify=True)\n",
        "\n",
        "query = '#BlackLivesMatter'\n",
        "max_tweets = 10000\n",
        "searched_tweets = [status for status in tweepy.Cursor(api.search, q=query, lang='en').items(max_tweets)]"
      ],
      "execution_count": null,
      "outputs": []
    },
    {
      "cell_type": "code",
      "metadata": {
        "colab": {
          "base_uri": "https://localhost:8080/"
        },
        "id": "Og-jt4fBIhYO",
        "outputId": "cced7136-cee9-4808-9f75-54ab4b48a27d"
      },
      "source": [
        "len(searched_tweets)"
      ],
      "execution_count": null,
      "outputs": [
        {
          "output_type": "execute_result",
          "data": {
            "text/plain": [
              "2500"
            ]
          },
          "metadata": {
            "tags": []
          },
          "execution_count": 5
        }
      ]
    },
    {
      "cell_type": "code",
      "metadata": {
        "id": "17Jl3A9ZIjDF"
      },
      "source": [
        "queried_tweetext = []\n",
        "for tweets in searched_tweets:\n",
        "    queried_tweetext.append(tweets.text)"
      ],
      "execution_count": null,
      "outputs": []
    },
    {
      "cell_type": "code",
      "metadata": {
        "id": "B3kz5XmIIkyN"
      },
      "source": [
        "#Creating Spark Dataframe of tweets\n",
        "sc = SparkContext.getOrCreate()\n",
        "sqlContext = SQLContext(sc)\n",
        "\n",
        "rdd = sc.parallelize(queried_tweetext)\n",
        "row_rdd = rdd.map(lambda x: Row(x))\n",
        "\n",
        "spark_df = sqlContext.createDataFrame(row_rdd,['Tweets'])"
      ],
      "execution_count": null,
      "outputs": []
    },
    {
      "cell_type": "code",
      "metadata": {
        "id": "BRTiQCKjImu3"
      },
      "source": [
        "from pyspark.sql import SparkSession\n",
        "from pyspark.sql.functions import *\n",
        "\n",
        "spark_df = spark_df.withColumn(\"Hashtags\", regexp_extract(spark_df.Tweets, r\"#(\\w+)\",1))\n",
        "spark_df = spark_df.withColumn(\"Tweet_content\", regexp_replace(spark_df.Tweets, r\"[^a-zA-Z\\. ]\",\"\"))"
      ],
      "execution_count": null,
      "outputs": []
    },
    {
      "cell_type": "code",
      "metadata": {
        "colab": {
          "base_uri": "https://localhost:8080/"
        },
        "id": "FK8GyGCQIpv7",
        "outputId": "828caafd-89df-41c2-afaa-7528c5b0a06e"
      },
      "source": [
        "spark_df.show(5)"
      ],
      "execution_count": null,
      "outputs": [
        {
          "output_type": "stream",
          "text": [
            "+--------------------+----------------+--------------------+\n",
            "|              Tweets|        Hashtags|       Tweet_content|\n",
            "+--------------------+----------------+--------------------+\n",
            "|Pelosi has introd...|BlackLivesMatter|Pelosi has introd...|\n",
            "|RT @ajplus: A pro...|BlackLivesMatter|RT ajplus A promi...|\n",
            "|Isn't the Nationa...|BlackLivesMatter|Isnt the National...|\n",
            "|RT @Quicktake: “I...|                |RT Quicktake Its ...|\n",
            "|RT @JamaalBowmanN...|BlackLivesMatter|RT JamaalBowmanNY...|\n",
            "+--------------------+----------------+--------------------+\n",
            "only showing top 5 rows\n",
            "\n"
          ],
          "name": "stdout"
        }
      ]
    },
    {
      "cell_type": "code",
      "metadata": {
        "id": "NLLgYuZ4I4M1",
        "colab": {
          "base_uri": "https://localhost:8080/"
        },
        "outputId": "481a0ea0-58b6-4595-8c0d-7f3f7cace04b"
      },
      "source": [
        "from pyspark.ml.feature import RegexTokenizer\n",
        "\n",
        "tokenizer = RegexTokenizer().setInputCol('Tweet_content').setOutputCol('words')\n",
        "tokenized_df = tokenizer.transform(spark_df)\n",
        "\n",
        "tokenized_df.select('Tweet_content', explode('words').alias('word')).show(5)"
      ],
      "execution_count": null,
      "outputs": [
        {
          "output_type": "stream",
          "text": [
            "+--------------------+----------+\n",
            "|       Tweet_content|      word|\n",
            "+--------------------+----------+\n",
            "|Pelosi has introd...|    pelosi|\n",
            "|Pelosi has introd...|       has|\n",
            "|Pelosi has introd...|introduced|\n",
            "|Pelosi has introd...|       and|\n",
            "|Pelosi has introd...|    passed|\n",
            "+--------------------+----------+\n",
            "only showing top 5 rows\n",
            "\n"
          ],
          "name": "stdout"
        }
      ]
    },
    {
      "cell_type": "markdown",
      "metadata": {
        "id": "Y6sjRX65X4Fa"
      },
      "source": [
        "#Topic modelling\n",
        "We will use Latent Dirichlet Allocation, or LDA, for topic modelling. \n",
        "\n",
        "One can think of topic modelling as an unsupervised clustering technique. Given a corpus of documents, in this case, a corpus of Wikipedia comments, the algorithm (here, LDA) tries to find the latent factors or topics based on the words. LDA will not see the labels. It will be interesting to see if LDA can actually segregate the comments into clean and toxic comments, and furthermore find the substructures in the levels of toxicity.\n",
        "\n",
        "Please note that there is no guarantee that LDA topics will be human interpretable.\n",
        "\n",
        "We will first prepare the dictionary and the corpus for gensim's LDA module. It's fairly straightforward, you first create a dictionary of all the tokens (basically means that you map each token to a unique number) and then create a bag of words model with word counts. This will constitute the corpus."
      ]
    },
    {
      "cell_type": "code",
      "metadata": {
        "id": "NSczhlyaWWtM"
      },
      "source": [
        "import pandas as pd\n",
        "import re\n",
        "import numpy as np\n",
        "import matplotlib.pyplot as plt\n",
        "import seaborn as sns\n",
        "%matplotlib inline\n",
        "\n",
        "from IPython.display import display, HTML\n",
        "\n",
        "from nltk.corpus import stopwords\n",
        "from nltk.stem import WordNetLemmatizer\n",
        "from nltk.tokenize import word_tokenize, RegexpTokenizer\n",
        "from nltk import pos_tag\n",
        "from nltk.corpus import wordnet\n",
        "\n",
        "import gensim\n",
        "from gensim.models.ldamodel import LdaModel\n",
        "from gensim.corpora import Dictionary\n",
        "from sklearn.feature_extraction.text import TfidfVectorizer, CountVectorizer"
      ],
      "execution_count": null,
      "outputs": []
    },
    {
      "cell_type": "code",
      "metadata": {
        "id": "vIHI9oTJWEQd"
      },
      "source": [
        "#Collecting the text contained in tweets\n",
        "\n",
        "tweet_text = [val.Tweet_content for val in tokenized_df.select('Tweet_content').collect()]"
      ],
      "execution_count": null,
      "outputs": []
    },
    {
      "cell_type": "code",
      "metadata": {
        "colab": {
          "base_uri": "https://localhost:8080/"
        },
        "id": "dw0coFr8jrgw",
        "outputId": "365f88a2-29d0-4e33-d48d-cf6eb73825ff"
      },
      "source": [
        "#Removing stopwords and Lemmatization\n",
        "\n",
        "import nltk\n",
        "nltk.download('stopwords')\n",
        "nltk.download('averaged_perceptron_tagger')\n",
        "nltk.download('wordnet')\n",
        "\n",
        "stop_words = set(stopwords.words('english'))\n",
        "lemmatizer = WordNetLemmatizer()\n",
        "tokenizer = RegexpTokenizer(r'([a-zA-Z]+)') \n",
        "\n",
        "def get_pos(word):\n",
        "    tag = pos_tag([word])[0][1][0].upper()\n",
        "    tag_dict = {\"J\": wordnet.ADJ,\n",
        "                \"N\": wordnet.NOUN,\n",
        "                \"V\": wordnet.VERB,\n",
        "                \"R\": wordnet.ADV}\n",
        "    return tag_dict.get(tag, wordnet.NOUN)\n",
        "\n",
        "\n",
        "def preprocess_comment(input_str):\n",
        "    \n",
        "    comment=re.sub(r\"(\\d{1,3}\\.){1,3}\\d{1,3}\",\"\",input_str)  #remove ip's\n",
        "    words = [word for word in tokenizer.tokenize(comment.lower()) if not word in stop_words]  # convert to lowercase and remove stopwords\n",
        "    lemmatized_sentence = ' '.join([lemmatizer.lemmatize(word,pos = get_pos(word)) for word in words if len(word)>2]) ## lemmatization\n",
        "    return lemmatized_sentence"
      ],
      "execution_count": null,
      "outputs": [
        {
          "output_type": "stream",
          "text": [
            "[nltk_data] Downloading package stopwords to /root/nltk_data...\n",
            "[nltk_data]   Unzipping corpora/stopwords.zip.\n",
            "[nltk_data] Downloading package averaged_perceptron_tagger to\n",
            "[nltk_data]     /root/nltk_data...\n",
            "[nltk_data]   Unzipping taggers/averaged_perceptron_tagger.zip.\n",
            "[nltk_data] Downloading package wordnet to /root/nltk_data...\n",
            "[nltk_data]   Unzipping corpora/wordnet.zip.\n"
          ],
          "name": "stdout"
        }
      ]
    },
    {
      "cell_type": "code",
      "metadata": {
        "id": "IdnfJER6js1B"
      },
      "source": [
        "cleaned_tweets = [preprocess_comment(tweets) for tweets in tweet_text]"
      ],
      "execution_count": null,
      "outputs": []
    },
    {
      "cell_type": "code",
      "metadata": {
        "id": "zksM2npwWlyp",
        "colab": {
          "base_uri": "https://localhost:8080/"
        },
        "outputId": "aea85f6e-9917-4fa7-85ae-84960babf282"
      },
      "source": [
        "nltk.download('punkt')\n",
        "tokenized_tweet = [word_tokenize(doc) for doc in tweet_text]\n",
        "gensim_dict = Dictionary(tokenized_tweet)\n",
        "gensim_dict.save('dictionary.dict')\n"
      ],
      "execution_count": null,
      "outputs": [
        {
          "output_type": "stream",
          "text": [
            "[nltk_data] Downloading package punkt to /root/nltk_data...\n",
            "[nltk_data]   Unzipping tokenizers/punkt.zip.\n"
          ],
          "name": "stdout"
        }
      ]
    },
    {
      "cell_type": "code",
      "metadata": {
        "id": "lx8U7kZPXNsF"
      },
      "source": [
        "#Now convert each document into the bag-of-words (BoW) format = list of (token_id, token_count).\n",
        "corpus = [gensim_dict.doc2bow(doc) for doc in tokenized_tweet]\n",
        "gensim.corpora.MmCorpus.serialize('corpus.mm', corpus)\n",
        "\n"
      ],
      "execution_count": null,
      "outputs": []
    },
    {
      "cell_type": "code",
      "metadata": {
        "id": "4uMRYT2qXVT6",
        "colab": {
          "base_uri": "https://localhost:8080/"
        },
        "outputId": "eb7fe622-84a9-4784-8bbe-3edfae3330fc"
      },
      "source": [
        "num_topics=5\n",
        "start = time.time()\n",
        "lda = LdaModel(corpus, id2word=gensim_dict, num_topics=num_topics,chunksize=2000, random_state=42)\n",
        "#lda.save('lda_5_topics.ldamodel')\n",
        "print((time.time() - start)/60, 'mins')"
      ],
      "execution_count": null,
      "outputs": [
        {
          "output_type": "stream",
          "text": [
            "0.02695651849110921 mins\n"
          ],
          "name": "stdout"
        }
      ]
    },
    {
      "cell_type": "markdown",
      "metadata": {
        "id": "vzKqaIvZYH9Z"
      },
      "source": [
        "### Visualising the topics"
      ]
    },
    {
      "cell_type": "code",
      "metadata": {
        "id": "lQab-dDhYM7c",
        "colab": {
          "base_uri": "https://localhost:8080/",
          "height": 359
        },
        "outputId": "5599a2ba-583f-4c40-c4c1-cd31934a8ac7"
      },
      "source": [
        "def show_topics(model,num_topics=5):\n",
        "    topics = {}\n",
        "    for i in range(num_topics):\n",
        "        topics[i] = [tup[0] for tup in model.show_topic(i)]\n",
        "    topics_lda_df = pd.DataFrame(data=topics)\n",
        "    topics_lda_df.columns = ['Topic 1', 'Topic 2', 'Topic 3', 'Topic 4', 'Topic 5']\n",
        "    return topics_lda_df\n",
        "\n",
        "show_topics(lda,num_topics=5)"
      ],
      "execution_count": null,
      "outputs": [
        {
          "output_type": "execute_result",
          "data": {
            "text/html": [
              "<div>\n",
              "<style scoped>\n",
              "    .dataframe tbody tr th:only-of-type {\n",
              "        vertical-align: middle;\n",
              "    }\n",
              "\n",
              "    .dataframe tbody tr th {\n",
              "        vertical-align: top;\n",
              "    }\n",
              "\n",
              "    .dataframe thead th {\n",
              "        text-align: right;\n",
              "    }\n",
              "</style>\n",
              "<table border=\"1\" class=\"dataframe\">\n",
              "  <thead>\n",
              "    <tr style=\"text-align: right;\">\n",
              "      <th></th>\n",
              "      <th>Topic 1</th>\n",
              "      <th>Topic 2</th>\n",
              "      <th>Topic 3</th>\n",
              "      <th>Topic 4</th>\n",
              "      <th>Topic 5</th>\n",
              "    </tr>\n",
              "  </thead>\n",
              "  <tbody>\n",
              "    <tr>\n",
              "      <th>0</th>\n",
              "      <td>RT</td>\n",
              "      <td>you</td>\n",
              "      <td>RT</td>\n",
              "      <td>to</td>\n",
              "      <td>RT</td>\n",
              "    </tr>\n",
              "    <tr>\n",
              "      <th>1</th>\n",
              "      <td>BlackLivesMatter</td>\n",
              "      <td>President.Didnt</td>\n",
              "      <td>BlackLivesMatter</td>\n",
              "      <td>RT</td>\n",
              "      <td>a</td>\n",
              "    </tr>\n",
              "    <tr>\n",
              "      <th>2</th>\n",
              "      <td>couldve</td>\n",
              "      <td>RT</td>\n",
              "      <td>the</td>\n",
              "      <td>.</td>\n",
              "      <td>and</td>\n",
              "    </tr>\n",
              "    <tr>\n",
              "      <th>3</th>\n",
              "      <td>too</td>\n",
              "      <td>was</td>\n",
              "      <td>of</td>\n",
              "      <td>the</td>\n",
              "      <td>.</td>\n",
              "    </tr>\n",
              "    <tr>\n",
              "      <th>4</th>\n",
              "      <td>my</td>\n",
              "      <td>BlackLivesMatter</td>\n",
              "      <td>.</td>\n",
              "      <td>BlackLivesMatter</td>\n",
              "      <td>is</td>\n",
              "    </tr>\n",
              "    <tr>\n",
              "      <th>5</th>\n",
              "      <td>say</td>\n",
              "      <td>say</td>\n",
              "      <td>amp</td>\n",
              "      <td>and</td>\n",
              "      <td>BlackLivesMatter</td>\n",
              "    </tr>\n",
              "    <tr>\n",
              "      <th>6</th>\n",
              "      <td>JamaalBowmanNY</td>\n",
              "      <td>been</td>\n",
              "      <td>In</td>\n",
              "      <td>a</td>\n",
              "      <td>the</td>\n",
              "    </tr>\n",
              "    <tr>\n",
              "      <th>7</th>\n",
              "      <td>son</td>\n",
              "      <td>much.In</td>\n",
              "      <td>The</td>\n",
              "      <td>is</td>\n",
              "      <td>was</td>\n",
              "    </tr>\n",
              "    <tr>\n",
              "      <th>8</th>\n",
              "      <td>In</td>\n",
              "      <td>In</td>\n",
              "      <td>a</td>\n",
              "      <td>in</td>\n",
              "      <td>from</td>\n",
              "    </tr>\n",
              "    <tr>\n",
              "      <th>9</th>\n",
              "      <td>Trayvon</td>\n",
              "      <td>Mr.</td>\n",
              "      <td>we</td>\n",
              "      <td>for</td>\n",
              "      <td>in</td>\n",
              "    </tr>\n",
              "  </tbody>\n",
              "</table>\n",
              "</div>"
            ],
            "text/plain": [
              "            Topic 1           Topic 2  ...           Topic 4           Topic 5\n",
              "0                RT               you  ...                to                RT\n",
              "1  BlackLivesMatter   President.Didnt  ...                RT                 a\n",
              "2           couldve                RT  ...                 .               and\n",
              "3               too               was  ...               the                 .\n",
              "4                my  BlackLivesMatter  ...  BlackLivesMatter                is\n",
              "5               say               say  ...               and  BlackLivesMatter\n",
              "6    JamaalBowmanNY              been  ...                 a               the\n",
              "7               son           much.In  ...                is               was\n",
              "8                In                In  ...                in              from\n",
              "9           Trayvon               Mr.  ...               for                in\n",
              "\n",
              "[10 rows x 5 columns]"
            ]
          },
          "metadata": {
            "tags": []
          },
          "execution_count": 18
        }
      ]
    },
    {
      "cell_type": "code",
      "metadata": {
        "id": "3iIOBp7EYUN8",
        "colab": {
          "base_uri": "https://localhost:8080/",
          "height": 1000
        },
        "outputId": "b76b54bd-71af-43b8-fc64-e8f858692cfb"
      },
      "source": [
        "fig=plt.figure(figsize=(15,18))\n",
        "for i in range(num_topics):\n",
        "    df=pd.DataFrame(lda.show_topic(i), columns=['term','prob']).set_index('term')    \n",
        "    plt.subplot(3,2,i+1)\n",
        "    plt.title('topic '+str(i+1))\n",
        "    sns.barplot(x='prob', y=df.index, data=df, palette='gnuplot')\n",
        "    plt.xlabel('probability')\n",
        "    plt.ylabel('Tweet term')"
      ],
      "execution_count": null,
      "outputs": [
        {
          "output_type": "display_data",
          "data": {
            "image/png": "[encoded data removed]",
            "text/plain": [
              "<Figure size 1080x1296 with 5 Axes>"
            ]
          },
          "metadata": {
            "tags": [],
            "needs_background": "light"
          }
        }
      ]
    },
    {
      "cell_type": "markdown",
      "metadata": {
        "id": "8FYegYLMYdtA"
      },
      "source": [
        "## LDA with tf-idf features"
      ]
    },
    {
      "cell_type": "code",
      "metadata": {
        "id": "Ozi3UlcjYiV_"
      },
      "source": [
        "from gensim import models\n",
        "tfidf = models.TfidfModel(corpus)\n",
        "corpus_tfidf = tfidf[corpus]"
      ],
      "execution_count": null,
      "outputs": []
    },
    {
      "cell_type": "code",
      "metadata": {
        "id": "pbUAnAyoYlYk",
        "colab": {
          "base_uri": "https://localhost:8080/"
        },
        "outputId": "0d39cd58-c968-4f5f-b556-ad29bc7b7bf8"
      },
      "source": [
        "num_topics=5\n",
        "start = time.time()\n",
        "lda_tfidf = LdaModel(corpus_tfidf, id2word=gensim_dict, num_topics=num_topics, chunksize=2000,random_state=42)\n",
        "print((time.time() - start)/60, 'mins')"
      ],
      "execution_count": null,
      "outputs": [
        {
          "output_type": "stream",
          "text": [
            "0.020474112033843993 mins\n"
          ],
          "name": "stdout"
        }
      ]
    },
    {
      "cell_type": "code",
      "metadata": {
        "id": "Vjmr2mIdYp7K",
        "colab": {
          "base_uri": "https://localhost:8080/",
          "height": 359
        },
        "outputId": "201cac52-be5f-44ed-88bc-dee0c2ac7033"
      },
      "source": [
        "topics_tfidf = show_topics(lda_tfidf,num_topics=5)\n",
        "topics_tfidf"
      ],
      "execution_count": null,
      "outputs": [
        {
          "output_type": "execute_result",
          "data": {
            "text/html": [
              "<div>\n",
              "<style scoped>\n",
              "    .dataframe tbody tr th:only-of-type {\n",
              "        vertical-align: middle;\n",
              "    }\n",
              "\n",
              "    .dataframe tbody tr th {\n",
              "        vertical-align: top;\n",
              "    }\n",
              "\n",
              "    .dataframe thead th {\n",
              "        text-align: right;\n",
              "    }\n",
              "</style>\n",
              "<table border=\"1\" class=\"dataframe\">\n",
              "  <thead>\n",
              "    <tr style=\"text-align: right;\">\n",
              "      <th></th>\n",
              "      <th>Topic 1</th>\n",
              "      <th>Topic 2</th>\n",
              "      <th>Topic 3</th>\n",
              "      <th>Topic 4</th>\n",
              "      <th>Topic 5</th>\n",
              "    </tr>\n",
              "  </thead>\n",
              "  <tbody>\n",
              "    <tr>\n",
              "      <th>0</th>\n",
              "      <td>couldve</td>\n",
              "      <td>President.Didnt</td>\n",
              "      <td>Damn</td>\n",
              "      <td>to</td>\n",
              "      <td>President.Didnt</td>\n",
              "    </tr>\n",
              "    <tr>\n",
              "      <th>1</th>\n",
              "      <td>Trayvon</td>\n",
              "      <td>much.In</td>\n",
              "      <td>In</td>\n",
              "      <td>johncardillo</td>\n",
              "      <td>much.In</td>\n",
              "    </tr>\n",
              "    <tr>\n",
              "      <th>2</th>\n",
              "      <td>son</td>\n",
              "      <td>Trayvon</td>\n",
              "      <td>son</td>\n",
              "      <td>happened</td>\n",
              "      <td>Mr.</td>\n",
              "    </tr>\n",
              "    <tr>\n",
              "      <th>3</th>\n",
              "      <td>JamaalBowmanNY</td>\n",
              "      <td>Mr.</td>\n",
              "      <td>Trayvon</td>\n",
              "      <td>Antifa</td>\n",
              "      <td>couldve</td>\n",
              "    </tr>\n",
              "    <tr>\n",
              "      <th>4</th>\n",
              "      <td>Damn</td>\n",
              "      <td>son</td>\n",
              "      <td>Mr.</td>\n",
              "      <td>What</td>\n",
              "      <td>son</td>\n",
              "    </tr>\n",
              "    <tr>\n",
              "      <th>5</th>\n",
              "      <td>Mr.</td>\n",
              "      <td>Damn</td>\n",
              "      <td>JamaalBowmanNY</td>\n",
              "      <td>and</td>\n",
              "      <td>JamaalBowmanNY</td>\n",
              "    </tr>\n",
              "    <tr>\n",
              "      <th>6</th>\n",
              "      <td>much.In</td>\n",
              "      <td>couldve</td>\n",
              "      <td>much.In</td>\n",
              "      <td>.</td>\n",
              "      <td>Damn</td>\n",
              "    </tr>\n",
              "    <tr>\n",
              "      <th>7</th>\n",
              "      <td>say</td>\n",
              "      <td>JamaalBowmanNY</td>\n",
              "      <td>couldve</td>\n",
              "      <td>is</td>\n",
              "      <td>Trayvon</td>\n",
              "    </tr>\n",
              "    <tr>\n",
              "      <th>8</th>\n",
              "      <td>President.Didnt</td>\n",
              "      <td>been</td>\n",
              "      <td>been</td>\n",
              "      <td>the</td>\n",
              "      <td>been</td>\n",
              "    </tr>\n",
              "    <tr>\n",
              "      <th>9</th>\n",
              "      <td>been</td>\n",
              "      <td>say</td>\n",
              "      <td>too</td>\n",
              "      <td>in</td>\n",
              "      <td>say</td>\n",
              "    </tr>\n",
              "  </tbody>\n",
              "</table>\n",
              "</div>"
            ],
            "text/plain": [
              "           Topic 1          Topic 2  ...       Topic 4          Topic 5\n",
              "0          couldve  President.Didnt  ...            to  President.Didnt\n",
              "1          Trayvon          much.In  ...  johncardillo          much.In\n",
              "2              son          Trayvon  ...      happened              Mr.\n",
              "3   JamaalBowmanNY              Mr.  ...        Antifa          couldve\n",
              "4             Damn              son  ...          What              son\n",
              "5              Mr.             Damn  ...           and   JamaalBowmanNY\n",
              "6          much.In          couldve  ...             .             Damn\n",
              "7              say   JamaalBowmanNY  ...            is          Trayvon\n",
              "8  President.Didnt             been  ...           the             been\n",
              "9             been              say  ...            in              say\n",
              "\n",
              "[10 rows x 5 columns]"
            ]
          },
          "metadata": {
            "tags": []
          },
          "execution_count": 22
        }
      ]
    },
    {
      "cell_type": "markdown",
      "metadata": {
        "id": "5GvW4U4BaLdz"
      },
      "source": [
        "###Visualizing the topics with PyLDAvis"
      ]
    },
    {
      "cell_type": "code",
      "metadata": {
        "colab": {
          "base_uri": "https://localhost:8080/"
        },
        "id": "j40Xsc-j4jBY",
        "outputId": "1a7534eb-b557-43b2-fb0c-81a28b721fab"
      },
      "source": [
        "!pip install pyLDAvis"
      ],
      "execution_count": null,
      "outputs": [
        {
          "output_type": "stream",
          "text": [
            "Collecting pyLDAvis\n",
            "\u001b[?25l  Downloading https://files.pythonhosted.org/packages/a5/3a/af82e070a8a96e13217c8f362f9a73e82d61ac8fff3a2561946a97f96266/pyLDAvis-2.1.2.tar.gz (1.6MB)\n",
            "\u001b[K     |████████████████████████████████| 1.6MB 12.7MB/s \n",
            "\u001b[?25hRequirement already satisfied: wheel>=0.23.0 in /usr/local/lib/python3.6/dist-packages (from pyLDAvis) (0.35.1)\n",
            "Requirement already satisfied: numpy>=1.9.2 in /usr/local/lib/python3.6/dist-packages (from pyLDAvis) (1.18.5)\n",
            "Requirement already satisfied: scipy>=0.18.0 in /usr/local/lib/python3.6/dist-packages (from pyLDAvis) (1.4.1)\n",
            "Requirement already satisfied: pandas>=0.17.0 in /usr/local/lib/python3.6/dist-packages (from pyLDAvis) (1.1.4)\n",
            "Requirement already satisfied: joblib>=0.8.4 in /usr/local/lib/python3.6/dist-packages (from pyLDAvis) (0.17.0)\n",
            "Requirement already satisfied: jinja2>=2.7.2 in /usr/local/lib/python3.6/dist-packages (from pyLDAvis) (2.11.2)\n",
            "Requirement already satisfied: numexpr in /usr/local/lib/python3.6/dist-packages (from pyLDAvis) (2.7.1)\n",
            "Requirement already satisfied: pytest in /usr/local/lib/python3.6/dist-packages (from pyLDAvis) (3.6.4)\n",
            "Requirement already satisfied: future in /usr/local/lib/python3.6/dist-packages (from pyLDAvis) (0.16.0)\n",
            "Collecting funcy\n",
            "  Downloading https://files.pythonhosted.org/packages/66/89/479de0afbbfb98d1c4b887936808764627300208bb771fcd823403645a36/funcy-1.15-py2.py3-none-any.whl\n",
            "Requirement already satisfied: python-dateutil>=2.7.3 in /usr/local/lib/python3.6/dist-packages (from pandas>=0.17.0->pyLDAvis) (2.8.1)\n",
            "Requirement already satisfied: pytz>=2017.2 in /usr/local/lib/python3.6/dist-packages (from pandas>=0.17.0->pyLDAvis) (2018.9)\n",
            "Requirement already satisfied: MarkupSafe>=0.23 in /usr/local/lib/python3.6/dist-packages (from jinja2>=2.7.2->pyLDAvis) (1.1.1)\n",
            "Requirement already satisfied: six>=1.10.0 in /usr/local/lib/python3.6/dist-packages (from pytest->pyLDAvis) (1.15.0)\n",
            "Requirement already satisfied: atomicwrites>=1.0 in /usr/local/lib/python3.6/dist-packages (from pytest->pyLDAvis) (1.4.0)\n",
            "Requirement already satisfied: py>=1.5.0 in /usr/local/lib/python3.6/dist-packages (from pytest->pyLDAvis) (1.9.0)\n",
            "Requirement already satisfied: more-itertools>=4.0.0 in /usr/local/lib/python3.6/dist-packages (from pytest->pyLDAvis) (8.6.0)\n",
            "Requirement already satisfied: pluggy<0.8,>=0.5 in /usr/local/lib/python3.6/dist-packages (from pytest->pyLDAvis) (0.7.1)\n",
            "Requirement already satisfied: setuptools in /usr/local/lib/python3.6/dist-packages (from pytest->pyLDAvis) (50.3.2)\n",
            "Requirement already satisfied: attrs>=17.4.0 in /usr/local/lib/python3.6/dist-packages (from pytest->pyLDAvis) (20.3.0)\n",
            "Building wheels for collected packages: pyLDAvis\n",
            "  Building wheel for pyLDAvis (setup.py) ... \u001b[?25l\u001b[?25hdone\n",
            "  Created wheel for pyLDAvis: filename=pyLDAvis-2.1.2-py2.py3-none-any.whl size=97712 sha256=de588dfa3ba48fbe13594a5d4a09b3b41cb40637ec13c96bf7eb3ef765002f5d\n",
            "  Stored in directory: /root/.cache/pip/wheels/98/71/24/513a99e58bb6b8465bae4d2d5e9dba8f0bef8179e3051ac414\n",
            "Successfully built pyLDAvis\n",
            "Installing collected packages: funcy, pyLDAvis\n",
            "Successfully installed funcy-1.15 pyLDAvis-2.1.2\n"
          ],
          "name": "stdout"
        }
      ]
    },
    {
      "cell_type": "code",
      "metadata": {
        "id": "V_hKsmUlZJYi"
      },
      "source": [
        "import pyLDAvis\n",
        "pyLDAvis.enable_notebook()\n",
        "import pyLDAvis.gensim"
      ],
      "execution_count": null,
      "outputs": []
    },
    {
      "cell_type": "code",
      "metadata": {
        "id": "czVZT5YZac5n",
        "colab": {
          "base_uri": "https://localhost:8080/"
        },
        "outputId": "10eaa23c-3edc-4c79-90c2-6b5f15d540c9"
      },
      "source": [
        "start = time.time()\n",
        "lda_display = pyLDAvis.gensim.prepare(lda_tfidf, corpus_tfidf, gensim_dict)\n",
        "end = time.time()\n",
        "print((end-start)/60,'mins')"
      ],
      "execution_count": null,
      "outputs": [
        {
          "output_type": "stream",
          "text": [
            "0.05176179806391398 mins\n"
          ],
          "name": "stdout"
        }
      ]
    },
    {
      "cell_type": "code",
      "metadata": {
        "id": "sfo6I8EjafYM",
        "colab": {
          "base_uri": "https://localhost:8080/",
          "height": 861
        },
        "outputId": "b50591e6-64c1-4f39-949d-b13aaed265b1"
      },
      "source": [
        "pyLDAvis.display(lda_display)"
      ],
      "execution_count": null,
      "outputs": [
        {
          "output_type": "execute_result",
          "data": {
            "text/html": [
              "\n",
              "<link rel=\"stylesheet\" type=\"text/css\" href=\"https://cdn.rawgit.com/bmabey/pyLDAvis/files/ldavis.v1.0.0.css\">\n",
              "\n",
              "\n",
              "<div id=\"ldavis_el561403275838352647914288670\"></div>\n",
              "<script type=\"text/javascript\">\n",
              "\n",
              "var ldavis_el561403275838352647914288670_data = {\"mdsDat\": {\"x\": [-0.2613576653284061, 0.23389502081059105, 0.043421019620850605, 0.016234881628262848, -0.032193256731298074], \"y\": [-0.0027389389883785316, -0.013626880397719768, 0.07643724510031599, -0.05743481515059786, -0.00263661056361988], \"topics\": [1, 2, 3, 4, 5], \"cluster\": [1, 1, 1, 1, 1], \"Freq\": [51.78723415247843, 14.985044865340358, 13.577026919210928, 10.810516068806434, 8.840177994163838]}, \"tinfo\": {\"Term\": [\"couldve\", \"son\", \"Mr.\", \"Trayvon\", \"much.In\", \"JamaalBowmanNY\", \"say\", \"President.Didnt\", \"Damn\", \"been\", \"too\", \"In\", \"my\", \"you\", \"was\", \"BlackLivesMatter\", \"johncardillo\", \"happened\", \"What\", \"Antifa\", \"to\", \"and\", \".\", \"a\", \"is\", \"the\", \"BollywoodCricket\", \"supp\", \"Celebs\", \"deafening\", \"President.Didnt\", \"much.In\", \"Trayvon\", \"Mr.\", \"son\", \"JamaalBowmanNY\", \"say\", \"Damn\", \"couldve\", \"been\", \"too\", \"In\", \"my\", \"you\", \"was\", \"BlackLivesMatter\", \"RT\", \"BlackTransLivesMatter\", \"floraklarouda\", \"TransLivesMatter\", \"forget\", \"Lets\", \"dates\", \"redlining\", \"krosennw\", \"legacy\", \"global\", \"startling\", \"revelation\", \"Peace\", \"brutality\", \"michaelharriot\", \"treatment\", \"hes\", \"rightInstead\", \"radical\", \"phraseology\", \"o\", \"inhumane\", \"should\", \"address\", \"Maybe\", \"racism\", \"amp\", \"happened\", \"johncardillo\", \"What\", \"Antifa\", \"Respect\", \"revolutionary\", \"ReformThePolice\", \"years\", \"Oregon\", \"week\", \"finally\", \"arrogance.Long\", \"insufferable\", \"condescending\", \"over\", \"MalaikaJabali\", \"Christmas\", \"movements\", \"understand\", \"twitter\", \"would\", \"opportunities\", \"tons\", \"site\", \"phonetextbankingwritingdonation\", \"Wan\", \"IndivisibleVent\", \"GEORGIA\", \"account\", \"hurting\", \"DefundThePolice\", \"substantially\", \"suspended\", \"Share\", \"fund\", \"growth\", \"old\", \"demand\", \"sector\", \"has\", \"to\", \"Its\", \"CheriDiNovo\", \"core\", \"Toronto\", \"This\", \"and\", \"...\", \".\", \"are\", \"is\", \"on\", \"for\", \"in\", \"his\", \"where\", \"the\", \"I\", \"as\", \"a\", \"of\", \"this\", \"from\", \"with\", \"our\", \"people\", \"hard\", \"could\", \"Using\", \"followers\", \"lunatic\", \"inflammatory\", \"rhetoric\", \"KNOWS\", \"cultural\", \"clientfed\", \"LRPow\", \"jest\", \"full\", \"s\", \"He\", \"c\", \"well\", \"murderer\", \"rapists\", \"child\", \"sex\", \"offenders\", \"nationals\", \"NeilUKIP\", \"Jamaican\", \"included\", \"own\", \"foun\", \"Have\", \"yes\", \"ever\", \"deported\", \"The\", \"amp\", \"we\", \"today\", \"Maybe\", \".\", \"people\", \"the\", \"In\", \"Damn\", \"son\", \"Trayvon\", \"Mr.\", \"JamaalBowmanNY\", \"much.In\", \"couldve\", \"too\", \"been\", \"President.Didnt\", \"say\", \"my\", \"was\", \"you\", \"BlackLivesMatter\", \"of\", \"BollywoodCricket\", \"supp\", \"Celebs\", \"Advaidism\", \"deafening\", \"farmersagitation\", \"silence\", \"began\", \"passed\", \"ShutDownBerks\", \"injustices\", \"affirms\", \"Athletics\", \"Middlebury\", \"College\", \"As\", \"there\", \"yet\", \"fight\", \"since\", \"MiddAthletics\", \"li\", \"days\", \"systemic\", \"continues\", \"No\", \"NotMoreDeportation\", \"minute\", \"httpst.coNEQ\", \"SaveThe\", \"social\", \"from\", \"have\", \"against\", \"a\", \"and\", \"President.Didnt\", \"much.In\", \"Mr.\", \"couldve\", \"son\", \"JamaalBowmanNY\", \"Damn\", \"Trayvon\", \"been\", \"say\", \"too\", \"was\", \"my\", \"In\", \"you\", \"BlackLivesMatter\", \"LekkiMassaccre\", \"BornoMassacre\", \"Krazy\", \"EndBadGovernanceinNIGERIA\", \"coronavirus\", \"kennychalk\", \"did\", \"labeled\", \"rogue\", \"Wisconsin\", \"class\", \"instructor\", \"teacher\", \"DJBlackzitoun\", \"him\", \"one\", \"allies\", \"thanks\", \"K.\", \"almost\", \"SocialPowerOne\", \"which\", \"way\", \"SOUNDTRACKS\", \"design\", \"World\", \"OneHeart\", \"thinking\", \"Angle\", \"reached\", \"https\", \"be\", \"community\", \"EndSARS\", \"talking\", \"should\", \"couldve\", \"Trayvon\", \"son\", \"say\", \"JamaalBowmanNY\", \"Damn\", \"Mr.\", \"much.In\", \"been\", \"President.Didnt\", \"too\", \"my\", \"In\", \"was\", \"you\", \"BlackLivesMatter\", \"RT\", \"to\"], \"Freq\": [321.0, 321.0, 321.0, 321.0, 321.0, 320.0, 317.0, 321.0, 321.0, 318.0, 315.0, 310.0, 308.0, 287.0, 303.0, 190.0, 16.0, 16.0, 15.0, 16.0, 27.0, 26.0, 25.0, 19.0, 15.0, 20.0, 6.0, 6.0, 6.0, 6.0, 281.7021907235303, 281.6400080057844, 281.63740669861323, 281.6209381289488, 281.5884217893093, 281.2627993387078, 278.867167579398, 281.563575480373, 281.49173349702835, 279.180605966264, 276.6177828394314, 271.8284703011902, 269.74245147702413, 251.47783222893892, 265.3855297469536, 163.38687927593637, 78.90410673284401, 1.6489264461696265, 1.5524461628260848, 1.5524461628260848, 1.3546670212859926, 1.468459266853402, 0.5630778773493824, 0.5626719834727935, 0.5625665220449416, 0.5625787007291356, 0.5625385035997099, 0.5624399533883485, 0.5616921597640797, 0.8380936363210986, 2.418087459783072, 2.3645451822515207, 2.3597367687546487, 2.3503487217057026, 2.3466876448621026, 2.3405486914380704, 2.3405258283867614, 2.312974506674029, 2.357314331337849, 2.8314813137916137, 2.3332090542410455, 2.3112945954137945, 2.2410419677143887, 2.3112609732795164, 14.692239846528972, 14.739856977369653, 14.008329223013229, 14.543871818316166, 2.835096560032743, 2.9664532319626185, 3.0818988998877375, 3.1519571983004053, 2.7438897744830255, 1.9103602979076135, 2.370754471008721, 1.8369115239040892, 1.8367844005270917, 1.8364206720076013, 2.4244231934654046, 1.846139124461319, 2.0870989776836995, 2.2557524377257767, 1.964824968365579, 1.8169982954861084, 1.8953882773228818, 1.694428356782896, 1.694428356782896, 1.694428356782896, 1.694428356782896, 1.694428356782896, 1.694428356782896, 1.694428356782896, 2.3836847344975967, 2.3835508657985547, 4.646218988189964, 2.383548617357873, 2.383130926262025, 2.383063127127626, 2.38270770054296, 2.3826437064620225, 2.5482190512110083, 3.228223268477957, 2.422993185191916, 3.8987674310125953, 17.098281691508458, 5.277386727938909, 2.3259406268270504, 2.3259406268270504, 2.3259406268270504, 3.844207115347175, 12.02864846115046, 3.8504010505540185, 11.009644766837049, 5.252494068196093, 7.722633422384386, 4.074529422747996, 6.485032174039749, 7.000699937373266, 4.3426929868199124, 3.7529982543137517, 7.445980438126702, 5.651489552734198, 3.5096028209622867, 6.6453875043109685, 5.084652814110995, 3.759604173036252, 3.8032554004285672, 3.526838329485474, 3.2169336748587374, 3.1597333439191835, 4.747529312384777, 3.9515353340814396, 3.9408357842690163, 3.939110454830035, 3.9388352796715562, 3.938402145196593, 3.937419914050041, 3.937361619540386, 3.9371532009978023, 3.9372356281808094, 3.93590394338767, 3.9357500584186345, 3.89574310058285, 3.92855538764638, 4.32047251017011, 3.8707510533306677, 3.880036491166945, 4.895435333244446, 4.895068015151352, 4.894457803268028, 4.8941594356702245, 4.893718152500363, 4.893336104074184, 4.8930863152344255, 4.892570126753771, 4.849284886278251, 2.595382360748375, 4.257844461886121, 4.2558799995930165, 2.3063243334541137, 4.142869197577345, 4.897211748732212, 7.18547779076399, 5.923041860513187, 5.781670152727692, 4.7747528483936446, 4.861586281460816, 6.754727749292473, 4.802372849750434, 5.924618946387294, 11.409827669094543, 11.429558793556037, 11.401112326489784, 11.3955850040582, 11.37853918797694, 11.368506264089444, 11.352579953322634, 11.329268417687494, 11.279525023093962, 11.299073115331593, 11.265450346537053, 11.238858020971438, 11.07514071130756, 10.94881838935331, 10.44097291862908, 7.8400505422897595, 5.175784599572136, 5.977894480115387, 5.9779279197293596, 5.9776289595984675, 5.977394882300657, 5.9774003723865325, 5.977237666205112, 5.976467556886302, 5.976462066800426, 5.92085298696084, 4.331249529588861, 3.1897523715146225, 3.189654298616926, 3.189615868015793, 3.1896008950543124, 3.1894207204178313, 3.1727323566504646, 5.817195174631852, 5.7636244139484685, 3.1263488670270436, 5.717562593447519, 2.6891416359402625, 2.6890483044803677, 5.5979845302751094, 3.0693625242806166, 3.068010465858934, 5.869624496551712, 2.2271641355776968, 2.226720187269802, 2.226609387354847, 2.226575448642158, 3.0746941463144384, 5.546651229135618, 4.863837270348893, 2.870801340650887, 5.892834583241235, 6.346369579273063, 12.654441317671493, 12.595389953987556, 12.59400345775447, 12.58971719798134, 12.563130209379263, 12.557512354231807, 12.555246446061103, 12.520874515686637, 12.479079989207609, 12.438163876468765, 12.384236260203432, 12.237554142159155, 12.239059423886655, 12.10331754969741, 11.557056001414738, 7.973772277902378, 3.8373951760981733, 3.8372804909037073, 3.837020102455062, 3.8365005499548657, 3.76350158708161, 3.285058627446572, 4.567565199335902, 1.8320184364452043, 1.8265241585523169, 1.8264825290511228, 1.8264617143005257, 1.825988688889899, 1.8198565001110671, 1.67209472831764, 1.8284283000995807, 2.838315920772269, 1.4267049400070175, 1.4091637170737321, 1.4090895390164575, 1.4089617935863228, 1.3242903471172338, 3.673592067811541, 1.3958949257666702, 1.1895791178488733, 1.1895646291499282, 1.1895016747326814, 1.1894541273122, 1.1894481073598213, 1.1894505561540092, 1.3712195490993426, 2.228416383410753, 4.085298855708843, 1.5775055633545203, 2.999771655763629, 1.6313157749714986, 3.740258857047287, 15.350447577535205, 15.287993530567352, 15.285639423088064, 15.212257223924405, 15.271072362729058, 15.258160687241062, 15.254507086312737, 15.250345768722788, 15.143774245665977, 15.19108331684648, 15.066085433790555, 14.737648259722867, 14.75956496770445, 14.3642822424253, 13.860679555039189, 9.495025599141806, 4.7686005907198865, 2.7575606063750655], \"Total\": [321.0, 321.0, 321.0, 321.0, 321.0, 320.0, 317.0, 321.0, 321.0, 318.0, 315.0, 310.0, 308.0, 287.0, 303.0, 190.0, 16.0, 16.0, 15.0, 16.0, 27.0, 26.0, 25.0, 19.0, 15.0, 20.0, 6.0, 6.0, 6.0, 6.0, 321.08651147041627, 321.07984929892626, 321.0843698803781, 321.08038684117906, 321.0722004493819, 320.71793380365955, 317.99206417244704, 321.0857393236658, 321.01663170992333, 318.39741464714825, 315.69419672278985, 310.3627909281528, 308.31461399470396, 287.8068326859604, 303.7611517623944, 190.58378155908986, 93.47872044715035, 2.187016907761249, 2.1090520240547646, 2.1090520240547646, 2.1719529997661136, 2.8286687864864906, 1.1001451233761834, 1.1000683445483503, 1.1000787155429905, 1.10010594388363, 1.1000754556512196, 1.1000510527053158, 1.0999159587214893, 1.6658864132946707, 7.665981550298181, 7.597252312871703, 7.5969843255829, 7.611059659467694, 7.614032917174384, 7.608755131888557, 7.612339612770011, 7.629297829938184, 7.893562875865957, 11.542646376306656, 7.9838211033422954, 8.704823332225239, 9.287611674002463, 12.099332670957265, 16.289006249204412, 16.348659705828656, 15.93498173014495, 16.950855602323696, 3.406149270796405, 3.62309325503796, 3.784682242252404, 4.069075798884954, 3.548181429787579, 2.476866670945393, 3.081340312288904, 2.397554471650961, 2.3975375270783768, 2.397553733041747, 3.17146512684245, 2.420635262483849, 2.7387671556996507, 2.9690243896043027, 2.5983168686330944, 2.415267666908967, 2.5216377695863765, 2.259714311532245, 2.259714311532245, 2.259714311532245, 2.259714311532245, 2.259714311532245, 2.259714311532245, 2.259714311532245, 3.1900241297939376, 3.1899923594275625, 6.237702126099269, 3.190073790746172, 3.1900759556411864, 3.190416591694539, 3.1899747176422846, 3.190057408759579, 3.4240030112022097, 4.426762425321994, 3.2722697536299776, 5.438576829748057, 27.52613655111404, 7.811712080722107, 3.157228870936633, 3.157228870936633, 3.157228870936633, 5.892282141536695, 26.004285383219393, 6.145323457817383, 25.038193270166126, 9.341723596327732, 15.998834426826239, 6.8325211504453005, 13.354252145391154, 15.135020386813414, 7.661728604822251, 6.416819234953534, 20.67599298965721, 13.452557299193398, 6.1009617543026895, 19.57769670001198, 15.739813332412336, 8.984823441430668, 11.184274423012248, 8.688054362347785, 6.068168204747276, 9.204851798317272, 5.4525179316247865, 4.5560434899817706, 4.54544318310457, 4.545207750999565, 4.5450451856812855, 4.544966357231205, 4.544912749008866, 4.545046594092783, 4.544837239757197, 4.544962560360599, 4.545006504219042, 4.544896020907939, 4.548737370591802, 4.603384893461155, 5.074507637885896, 4.555286271168396, 4.567184021982115, 5.832266582663711, 5.832100444880303, 5.8319438596415045, 5.831735351391242, 5.831721552234691, 5.8318003543476395, 5.831511172460075, 5.831585183489858, 5.815914449961715, 3.1608165023569965, 5.1977752176062975, 5.197331744206213, 2.8358566426353713, 5.199783208673474, 6.262376750054789, 11.775122110385231, 12.099332670957265, 11.586469212207707, 7.697852363920976, 8.704823332225239, 25.038193270166126, 9.204851798317272, 20.67599298965721, 310.3627909281528, 321.0857393236658, 321.0722004493819, 321.0843698803781, 321.08038684117906, 320.71793380365955, 321.07984929892626, 321.01663170992333, 315.69419672278985, 318.39741464714825, 321.08651147041627, 317.99206417244704, 308.31461399470396, 303.7611517623944, 287.8068326859604, 190.58378155908986, 15.739813332412336, 6.94933197090364, 6.949404840778152, 6.949153794460475, 6.949308571504341, 6.949343163346592, 6.9493136787081, 6.949305480937717, 6.949658252845086, 6.9293228090094985, 5.0923563405324055, 3.769258693177373, 3.769285989018161, 3.7692820743192366, 3.7693426454980896, 3.7693546548169525, 3.7530385415434306, 6.914095247351371, 6.885803858722043, 3.7750325459054257, 6.906907354874036, 3.2687910695699878, 3.268766156087291, 6.830949002405652, 3.752764127294757, 3.7991886905282946, 7.294224365149864, 2.8961380524915743, 2.8963110746784255, 2.896350456034826, 2.89632858128144, 4.047086049755964, 11.184274423012248, 10.470573725053022, 4.532180127096178, 19.57769670001198, 26.004285383219393, 321.08651147041627, 321.07984929892626, 321.08038684117906, 321.01663170992333, 321.0722004493819, 320.71793380365955, 321.0857393236658, 321.0843698803781, 318.39741464714825, 317.99206417244704, 315.69419672278985, 303.7611517623944, 308.31461399470396, 310.3627909281528, 287.8068326859604, 190.58378155908986, 4.51575071170101, 4.51583774369847, 4.515928350562877, 4.5161836945332725, 4.496373456785449, 3.964816288631563, 5.638463629154781, 2.431881237443419, 2.4263120078478306, 2.4263488057330203, 2.426354053963647, 2.426584220605913, 2.4204648846949115, 2.272461533544496, 2.558965118381074, 3.9796540797540123, 2.029394953385267, 2.010861805325152, 2.010894173016671, 2.0109293421079553, 1.9242498128863226, 5.380512208952709, 2.079658296962923, 1.7892568394374724, 1.7892644041946633, 1.7892632133732262, 1.7893008714283916, 1.7893183973953284, 1.7893235822028253, 2.06287824602775, 3.4612163987159867, 7.623112384281356, 2.627972471070965, 7.254789781911322, 2.9612186304264947, 11.542646376306656, 321.01663170992333, 321.0843698803781, 321.0722004493819, 317.99206417244704, 320.71793380365955, 321.0857393236658, 321.08038684117906, 321.07984929892626, 318.39741464714825, 321.08651147041627, 315.69419672278985, 308.31461399470396, 310.3627909281528, 303.7611517623944, 287.8068326859604, 190.58378155908986, 93.47872044715035, 27.52613655111404], \"Category\": [\"Default\", \"Default\", \"Default\", \"Default\", \"Default\", \"Default\", \"Default\", \"Default\", \"Default\", \"Default\", \"Default\", \"Default\", \"Default\", \"Default\", \"Default\", \"Default\", \"Default\", \"Default\", \"Default\", \"Default\", \"Default\", \"Default\", \"Default\", \"Default\", \"Default\", \"Default\", \"Default\", \"Default\", \"Default\", \"Default\", \"Topic1\", \"Topic1\", \"Topic1\", \"Topic1\", \"Topic1\", \"Topic1\", \"Topic1\", \"Topic1\", \"Topic1\", \"Topic1\", \"Topic1\", \"Topic1\", \"Topic1\", \"Topic1\", \"Topic1\", \"Topic1\", \"Topic1\", \"Topic1\", \"Topic1\", \"Topic1\", \"Topic1\", \"Topic1\", \"Topic1\", \"Topic1\", \"Topic1\", \"Topic1\", \"Topic1\", \"Topic1\", \"Topic1\", \"Topic1\", \"Topic1\", \"Topic1\", \"Topic1\", \"Topic1\", \"Topic1\", \"Topic1\", \"Topic1\", \"Topic1\", \"Topic1\", \"Topic1\", \"Topic1\", \"Topic1\", \"Topic1\", \"Topic1\", \"Topic2\", \"Topic2\", \"Topic2\", \"Topic2\", \"Topic2\", \"Topic2\", \"Topic2\", \"Topic2\", \"Topic2\", \"Topic2\", \"Topic2\", \"Topic2\", \"Topic2\", \"Topic2\", \"Topic2\", \"Topic2\", \"Topic2\", \"Topic2\", \"Topic2\", \"Topic2\", \"Topic2\", \"Topic2\", \"Topic2\", \"Topic2\", \"Topic2\", \"Topic2\", \"Topic2\", \"Topic2\", \"Topic2\", \"Topic2\", \"Topic2\", \"Topic2\", \"Topic2\", \"Topic2\", \"Topic2\", \"Topic2\", \"Topic2\", \"Topic2\", \"Topic2\", \"Topic2\", \"Topic2\", \"Topic2\", \"Topic2\", \"Topic2\", \"Topic2\", \"Topic2\", \"Topic2\", \"Topic2\", \"Topic2\", \"Topic2\", \"Topic2\", \"Topic2\", \"Topic2\", \"Topic2\", \"Topic2\", \"Topic2\", \"Topic2\", \"Topic2\", \"Topic2\", \"Topic2\", \"Topic2\", \"Topic2\", \"Topic2\", \"Topic2\", \"Topic2\", \"Topic2\", \"Topic3\", \"Topic3\", \"Topic3\", \"Topic3\", \"Topic3\", \"Topic3\", \"Topic3\", \"Topic3\", \"Topic3\", \"Topic3\", \"Topic3\", \"Topic3\", \"Topic3\", \"Topic3\", \"Topic3\", \"Topic3\", \"Topic3\", \"Topic3\", \"Topic3\", \"Topic3\", \"Topic3\", \"Topic3\", \"Topic3\", \"Topic3\", \"Topic3\", \"Topic3\", \"Topic3\", \"Topic3\", \"Topic3\", \"Topic3\", \"Topic3\", \"Topic3\", \"Topic3\", \"Topic3\", \"Topic3\", \"Topic3\", \"Topic3\", \"Topic3\", \"Topic3\", \"Topic3\", \"Topic3\", \"Topic3\", \"Topic3\", \"Topic3\", \"Topic3\", \"Topic3\", \"Topic3\", \"Topic3\", \"Topic3\", \"Topic3\", \"Topic3\", \"Topic3\", \"Topic3\", \"Topic3\", \"Topic3\", \"Topic3\", \"Topic3\", \"Topic4\", \"Topic4\", \"Topic4\", \"Topic4\", \"Topic4\", \"Topic4\", \"Topic4\", \"Topic4\", \"Topic4\", \"Topic4\", \"Topic4\", \"Topic4\", \"Topic4\", \"Topic4\", \"Topic4\", \"Topic4\", \"Topic4\", \"Topic4\", \"Topic4\", \"Topic4\", \"Topic4\", \"Topic4\", \"Topic4\", \"Topic4\", \"Topic4\", \"Topic4\", \"Topic4\", \"Topic4\", \"Topic4\", \"Topic4\", \"Topic4\", \"Topic4\", \"Topic4\", \"Topic4\", \"Topic4\", \"Topic4\", \"Topic4\", \"Topic4\", \"Topic4\", \"Topic4\", \"Topic4\", \"Topic4\", \"Topic4\", \"Topic4\", \"Topic4\", \"Topic4\", \"Topic4\", \"Topic4\", \"Topic4\", \"Topic4\", \"Topic4\", \"Topic4\", \"Topic5\", \"Topic5\", \"Topic5\", \"Topic5\", \"Topic5\", \"Topic5\", \"Topic5\", \"Topic5\", \"Topic5\", \"Topic5\", \"Topic5\", \"Topic5\", \"Topic5\", \"Topic5\", \"Topic5\", \"Topic5\", \"Topic5\", \"Topic5\", \"Topic5\", \"Topic5\", \"Topic5\", \"Topic5\", \"Topic5\", \"Topic5\", \"Topic5\", \"Topic5\", \"Topic5\", \"Topic5\", \"Topic5\", \"Topic5\", \"Topic5\", \"Topic5\", \"Topic5\", \"Topic5\", \"Topic5\", \"Topic5\", \"Topic5\", \"Topic5\", \"Topic5\", \"Topic5\", \"Topic5\", \"Topic5\", \"Topic5\", \"Topic5\", \"Topic5\", \"Topic5\", \"Topic5\", \"Topic5\", \"Topic5\", \"Topic5\", \"Topic5\", \"Topic5\", \"Topic5\", \"Topic5\"], \"logprob\": [30.0, 29.0, 28.0, 27.0, 26.0, 25.0, 24.0, 23.0, 22.0, 21.0, 20.0, 19.0, 18.0, 17.0, 16.0, 15.0, 14.0, 13.0, 12.0, 11.0, 10.0, 9.0, 8.0, 7.0, 6.0, 5.0, 4.0, 3.0, 2.0, 1.0, -2.902899980545044, -2.90310001373291, -2.90310001373291, -2.9031999111175537, -2.9033000469207764, -2.904400110244751, -2.9130001068115234, -2.90339994430542, -2.903599977493286, -2.911900043487549, -2.921099901199341, -2.9386000633239746, -2.9463000297546387, -3.016400098800659, -2.9625000953674316, -3.4475998878479004, -4.17549991607666, -8.043600082397461, -8.103899955749512, -8.103899955749512, -8.24020004272461, -8.159500122070312, -9.1181001663208, -9.118800163269043, -9.119000434875488, -9.118900299072266, -9.119000434875488, -9.119199752807617, -9.120499610900879, -8.720399856567383, -7.660699844360352, -7.68310022354126, -7.685200214385986, -7.689199924468994, -7.690700054168701, -7.693299770355225, -7.693299770355225, -7.7052001953125, -7.686200141906738, -7.502900123596191, -7.696499824523926, -7.705900192260742, -7.736800193786621, -7.705900192260742, -4.616300106048584, -4.613100051879883, -4.664000034332275, -4.626500129699707, -6.261600017547607, -6.216300010681152, -6.178100109100342, -6.155600070953369, -6.294300079345703, -6.656300067901611, -6.440400123596191, -6.695499897003174, -6.6956000328063965, -6.695799827575684, -6.418000221252441, -6.690499782562256, -6.56790018081665, -6.490200042724609, -6.628200054168701, -6.706399917602539, -6.6641998291015625, -6.776299953460693, -6.776299953460693, -6.776299953460693, -6.776299953460693, -6.776299953460693, -6.776299953460693, -6.776299953460693, -6.434999942779541, -6.434999942779541, -5.767600059509277, -6.434999942779541, -6.435200214385986, -6.435200214385986, -6.435400009155273, -6.435400009155273, -6.368199825286865, -6.131700038909912, -6.418600082397461, -5.942999839782715, -4.464700222015381, -5.640200138092041, -6.459499835968018, -6.459499835968018, -6.459499835968018, -5.957099914550781, -4.816299915313721, -5.95550012588501, -4.904900074005127, -5.644899845123291, -5.259500026702881, -5.898900032043457, -5.434100151062012, -5.357600212097168, -5.835100173950195, -5.981100082397461, -5.296000003814697, -5.571700096130371, -6.048099994659424, -5.4096999168396, -5.6774001121521, -5.979300022125244, -5.967800140380859, -6.0432000160217285, -6.135200023651123, -6.15310001373291, -5.647299766540527, -5.830900192260742, -5.833600044250488, -5.834000110626221, -5.834099769592285, -5.834199905395508, -5.834400177001953, -5.834400177001953, -5.834499835968018, -5.834499835968018, -5.834799766540527, -5.83489990234375, -5.845099925994873, -5.836699962615967, -5.741600036621094, -5.851500034332275, -5.849100112915039, -5.616700172424316, -5.616700172424316, -5.6168999671936035, -5.6168999671936035, -5.617000102996826, -5.617099761962891, -5.617099761962891, -5.617199897766113, -5.626100063323975, -6.251200199127197, -5.756199836730957, -5.756700038909912, -6.36929988861084, -5.783599853515625, -5.616300106048584, -5.232900142669678, -5.42609977722168, -5.450300216674805, -5.641600131988525, -5.623600006103516, -5.2947001457214355, -5.635900020599365, -5.42579984664917, -4.770500183105469, -4.768799781799316, -4.771200180053711, -4.771699905395508, -4.773200035095215, -4.774099826812744, -4.7754998207092285, -4.777599811553955, -4.7820000648498535, -4.780200004577637, -4.783199787139893, -4.785600185394287, -4.800300121307373, -4.811699867248535, -4.8592000007629395, -5.145699977874756, -5.560999870300293, -5.189000129699707, -5.189000129699707, -5.1890997886657715, -5.1890997886657715, -5.1890997886657715, -5.1890997886657715, -5.189300060272217, -5.189300060272217, -5.198599815368652, -5.511199951171875, -5.817200183868408, -5.817200183868408, -5.817200183868408, -5.817200183868408, -5.817299842834473, -5.822500228881836, -5.216300010681152, -5.225500106811523, -5.837200164794922, -5.23360013961792, -5.9878997802734375, -5.9878997802734375, -5.254700183868408, -5.855599880218506, -5.856100082397461, -5.207300186157227, -6.176400184631348, -6.176599979400635, -6.176599979400635, -6.176599979400635, -5.853899955749512, -5.263899803161621, -5.395299911499023, -5.922500133514404, -5.203400135040283, -5.129199981689453, -4.4390997886657715, -4.44379997253418, -4.443900108337402, -4.444200038909912, -4.446300029754639, -4.446800231933594, -4.447000026702881, -4.449699878692627, -4.453000068664551, -4.456299781799316, -4.460700035095215, -4.472599983215332, -4.472499847412109, -4.48360013961792, -4.529799938201904, -4.900899887084961, -5.431099891662598, -5.431099891662598, -5.43120002746582, -5.431300163269043, -5.450500011444092, -5.58650016784668, -5.256899833679199, -6.170499801635742, -6.173500061035156, -6.173500061035156, -6.173500061035156, -6.173799991607666, -6.17710018157959, -6.2617998123168945, -6.172399997711182, -5.732699871063232, -6.420499801635742, -6.4328999519348145, -6.4328999519348145, -6.433000087738037, -6.494999885559082, -5.474699974060059, -6.442399978637695, -6.60230016708374, -6.60230016708374, -6.602399826049805, -6.602399826049805, -6.602399826049805, -6.602399826049805, -6.46019983291626, -5.974599838256836, -5.368500232696533, -6.320000171661377, -5.6774001121521, -6.286499977111816, -5.456699848175049, -4.0447001457214355, -4.048799991607666, -4.048999786376953, -4.053800106048584, -4.049900054931641, -4.05079984664917, -4.051000118255615, -4.051300048828125, -4.058300018310547, -4.055200099945068, -4.063399791717529, -4.0854997634887695, -4.084000110626221, -4.111100196838379, -4.1468000411987305, -4.525100231170654, -5.213799953460693, -5.761499881744385], \"loglift\": [30.0, 29.0, 28.0, 27.0, 26.0, 25.0, 24.0, 23.0, 22.0, 21.0, 20.0, 19.0, 18.0, 17.0, 16.0, 15.0, 14.0, 13.0, 12.0, 11.0, 10.0, 9.0, 8.0, 7.0, 6.0, 5.0, 4.0, 3.0, 2.0, 1.0, 0.5272, 0.527, 0.5269, 0.5269, 0.5268, 0.5268, 0.5267, 0.5267, 0.5266, 0.5266, 0.5259, 0.5255, 0.5244, 0.5231, 0.523, 0.5041, 0.4885, 0.3756, 0.3516, 0.3516, 0.186, 0.0024, -0.0118, -0.0124, -0.0126, -0.0126, -0.0126, -0.0128, -0.014, -0.029, -0.4958, -0.5092, -0.5112, -0.517, -0.519, -0.5209, -0.5214, -0.5354, -0.5505, -0.7472, -0.5721, -0.668, -0.7637, -0.9973, 1.7949, 1.7945, 1.7693, 1.745, 1.7146, 1.6982, 1.6927, 1.6427, 1.6411, 1.6384, 1.636, 1.6318, 1.6317, 1.6315, 1.6295, 1.6272, 1.6264, 1.6234, 1.6187, 1.6135, 1.6126, 1.6102, 1.6102, 1.6102, 1.6102, 1.6102, 1.6102, 1.6102, 1.6067, 1.6067, 1.6036, 1.6067, 1.6065, 1.6064, 1.6063, 1.6063, 1.6027, 1.5824, 1.5976, 1.5653, 1.422, 1.5059, 1.5925, 1.5925, 1.5925, 1.471, 1.1271, 1.4306, 1.0765, 1.3223, 1.1698, 1.3812, 1.1758, 1.1271, 1.3304, 1.3618, 0.8768, 1.0309, 1.3452, 0.8176, 0.7682, 1.0269, 0.8195, 0.9966, 1.2635, 0.8289, 1.8583, 1.8544, 1.8541, 1.8537, 1.8536, 1.8535, 1.8533, 1.8533, 1.8533, 1.8533, 1.8529, 1.8529, 1.8418, 1.8383, 1.8359, 1.834, 1.8337, 1.8217, 1.8216, 1.8215, 1.8215, 1.8214, 1.8213, 1.8213, 1.8212, 1.815, 1.7997, 1.7973, 1.7969, 1.7901, 1.7696, 1.7509, 1.5029, 1.2825, 1.3016, 1.5192, 1.4143, 0.6866, 1.3462, 0.7469, -1.3065, -1.3387, -1.3412, -1.3417, -1.3432, -1.3429, -1.3455, -1.3473, -1.335, -1.3418, -1.3532, -1.3459, -1.3296, -1.3262, -1.3198, -1.1941, 0.8846, 2.0741, 2.0741, 2.0741, 2.074, 2.074, 2.074, 2.0738, 2.0738, 2.0674, 2.0628, 2.0577, 2.0577, 2.0577, 2.0576, 2.0576, 2.0567, 2.0519, 2.0468, 2.0361, 2.0357, 2.0295, 2.0294, 2.0256, 2.0236, 2.0109, 2.0074, 1.962, 1.9617, 1.9617, 1.9617, 1.9499, 1.5233, 1.4579, 1.768, 1.024, 0.8143, -1.0091, -1.0137, -1.0138, -1.014, -1.0162, -1.0156, -1.0169, -1.0197, -1.0146, -1.0166, -1.0137, -0.9871, -1.0018, -1.0196, -0.9903, -0.9493, 2.2631, 2.263, 2.2629, 2.2628, 2.2479, 2.2378, 2.2152, 2.1426, 2.1419, 2.1419, 2.1419, 2.1415, 2.1407, 2.1191, 2.0897, 2.0879, 2.0735, 2.0703, 2.0702, 2.0701, 2.0522, 2.0442, 2.0272, 2.0177, 2.0176, 2.0176, 2.0175, 2.0175, 2.0175, 2.0175, 1.9855, 1.8021, 1.9155, 1.5427, 1.8296, 1.299, -0.6145, -0.6188, -0.6189, -0.6141, -0.6187, -0.6207, -0.621, -0.6212, -0.6198, -0.6251, -0.6165, -0.6149, -0.62, -0.6256, -0.6074, -0.5735, -0.5498, 0.1251]}, \"token.table\": {\"Topic\": [1, 2, 3, 4, 5, 1, 2, 3, 4, 4, 5, 1, 2, 4, 4, 4, 1, 2, 3, 4, 5, 1, 4, 5, 4, 2, 2, 4, 5, 1, 3, 4, 5, 2, 4, 5, 2, 3, 5, 2, 3, 3, 2, 3, 4, 5, 1, 3, 4, 5, 2, 2, 3, 5, 1, 3, 4, 5, 3, 5, 3, 5, 3, 5, 1, 3, 2, 1, 3, 5, 4, 4, 1, 3, 4, 5, 3, 2, 4, 4, 5, 2, 1, 1, 3, 4, 5, 1, 2, 3, 4, 5, 2, 2, 5, 4, 2, 4, 5, 2, 3, 5, 2, 3, 4, 2, 1, 1, 3, 4, 5, 3, 2, 1, 2, 5, 5, 1, 2, 3, 4, 5, 2, 1, 3, 5, 4, 3, 4, 5, 5, 1, 2, 3, 5, 1, 2, 3, 4, 5, 1, 2, 4, 5, 2, 2, 3, 4, 1, 4, 5, 1, 3, 4, 5, 4, 1, 3, 5, 3, 3, 5, 3, 1, 5, 2, 4, 2, 5, 3, 1, 3, 4, 5, 3, 1, 4, 4, 2, 3, 2, 3, 5, 5, 3, 4, 4, 2, 1, 3, 1, 2, 3, 4, 5, 1, 3, 2, 4, 5, 3, 2, 1, 2, 1, 2, 3, 2, 2, 3, 4, 5, 1, 3, 5, 5, 2, 3, 4, 2, 5, 4, 2, 1, 2, 3, 4, 5, 3, 3, 1, 3, 5, 4, 5, 2, 1, 2, 3, 4, 5, 3, 1, 2, 5, 1, 5, 1, 4, 3, 1, 3, 5, 4, 2, 1, 3, 4, 5, 3, 1, 2, 3, 4, 5, 3, 1, 3, 5, 1, 2, 3, 4, 5, 3, 2, 2, 3, 4, 5, 2, 2, 4, 5, 2, 3, 4, 2, 3, 4, 2, 1, 3, 5, 1, 3, 4, 5, 1, 3, 5, 3, 5, 1, 1, 2, 3, 1, 3, 5, 5, 3, 1, 3, 4, 5, 2, 3, 1, 3, 4, 5, 4, 4, 2, 4, 1, 3, 4, 5, 1, 2, 4, 2, 4, 4, 5, 5, 5, 1, 2, 3, 4, 5, 4, 5, 1, 2, 3, 4, 1, 2, 3, 4, 5, 1, 2, 3, 4, 2, 1, 3, 4, 5, 1, 3, 5, 2, 2, 1, 2, 3, 4, 5, 5, 1, 2, 3, 5, 2, 3, 2, 4, 5, 2, 4, 5, 1, 2, 3, 4, 2, 2, 3, 4, 1, 3, 4, 5], \"Freq\": [0.03993898398378187, 0.4393288238216006, 0.2795728878864731, 0.1597559359351275, 0.07987796796756375, 0.1627253645579735, 0.650901458231894, 0.1627253645579735, 0.1627253645579735, 0.8633952483565079, 0.5588704077598453, 0.05899407224393533, 0.8849110836590299, 0.05899407224393533, 0.7993523026188415, 0.7959075338084971, 0.8552668997674516, 0.010494072389784682, 0.04197628955913873, 0.04197628955913873, 0.04722332575403107, 0.9144876717241798, 0.863392341180645, 0.885771417624939, 0.8634144785776515, 0.63346690460444, 0.7302555808140894, 0.7958922082766144, 0.8801029062439084, 0.878270086345174, 0.034258762233322394, 0.04048762809392646, 0.046716493954530536, 0.8015772313139834, 0.16031544626279667, 0.8857035653447622, 0.13783996918743846, 0.4135199075623154, 0.4135199075623154, 0.8850676343435022, 0.7696256842675181, 0.7882538140520862, 0.44601185236057345, 0.22300592618028672, 0.14867061745352447, 0.14867061745352447, 0.8763937171288244, 0.035442392972121574, 0.038664428696859904, 0.04833053587107488, 0.8850676343435022, 0.6400645528576374, 0.12801291057152747, 0.12801291057152747, 0.8761592988187106, 0.034298050843437074, 0.04053406008769836, 0.046770069331959645, 0.8573998051431697, 0.497291211749764, 0.8800789864726177, 0.8857536456488353, 0.8800867493339948, 0.8857884890845237, 0.353523185456473, 0.353523185456473, 0.8262293915142634, 0.22975767843512734, 0.5743941960878184, 0.11487883921756367, 0.9177704956207716, 0.7958947440299827, 0.8782847273056575, 0.03425933333461785, 0.04048830303182109, 0.04671727272902434, 0.8574106868924518, 0.13709476840029372, 0.8225686104017622, 0.6905748150642824, 0.5588775012453351, 0.8455035514290493, 0.6002810227752994, 0.8782679742869935, 0.034258679848074215, 0.040487530729542254, 0.04671638161101029, 0.8451121241509064, 0.010697621824695018, 0.04279048729878007, 0.04279048729878007, 0.05348810912347509, 0.7926689238287516, 0.8807599906796094, 0.5588912547146623, 0.6905293870749735, 0.6268773818461532, 0.7854909854132086, 0.519683043907915, 0.25477442797422106, 0.5944736652731825, 0.08492480932474035, 0.6788541186449039, 0.16971352966122596, 0.16971352966122596, 0.63346690460444, 0.9482933456306563, 0.8782738322175594, 0.03425890834891189, 0.04048780077598678, 0.04671669320306167, 0.880002199756454, 0.8850676343435022, 0.062755013901789, 0.8785701946250459, 0.8242837943474427, 0.5588892637627865, 0.05107853162314993, 0.35754972136204954, 0.20431412649259972, 0.3064711897388996, 0.10215706324629986, 0.6269545052404327, 0.2505066150796807, 0.5010132301593614, 0.12525330753984035, 0.7959067071961425, 0.2206443636300731, 0.6619330908902192, 0.4927577051139718, 0.4972825146366161, 0.16529837259543387, 0.16529837259543387, 0.4958951177863016, 0.08264918629771693, 0.07691040036388015, 0.4614624021832809, 0.1538208007277603, 0.23073120109164044, 0.07691040036388015, 0.10704662685514522, 0.535233134275726, 0.21409325371029045, 0.10704662685514522, 0.8341833412538886, 0.6556343345668425, 0.16390858364171063, 0.16390858364171063, 0.1311800154044655, 0.1311800154044655, 0.524720061617862, 0.8762633965140423, 0.034548019217399514, 0.03768874823716311, 0.04711093529645389, 0.8633518054709655, 0.2608928793889684, 0.5217857587779368, 0.1304464396944842, 0.8781006860791717, 0.8573470733491174, 0.8242820114124884, 0.8800952586246692, 0.38052148985886247, 0.7610429797177249, 0.8341835982389535, 0.7896422748044232, 0.63346690460444, 0.8896058208785182, 0.8779547448999449, 0.875344054615578, 0.034266137369293084, 0.040496344163710014, 0.04672655095812694, 0.8801195266155881, 0.9089709882375765, 0.8783552618950871, 0.8633909506219553, 0.6776961832962577, 0.22589872776541922, 0.15968378139996944, 0.7984189069998473, 0.5588888918013734, 0.8867663833365033, 0.7692628402906911, 0.8633946138283141, 0.7946951353449756, 0.6490681967271396, 0.9482933456306563, 0.8800477820007974, 0.07488251600409701, 0.4492950960245821, 0.22464754801229106, 0.14976503200819402, 0.07488251600409701, 0.46041511952960534, 0.769560019919849, 0.35764501555592954, 0.5364675233338942, 0.08941125388898238, 0.8793649037336245, 0.626964216656301, 0.9090285533259378, 0.6269479647946773, 0.061391099291207035, 0.9208664893681056, 0.9170075298606233, 0.7354865298805203, 0.1910115006606166, 0.0955057503303083, 0.47752875165154146, 0.1910115006606166, 0.2627754990084885, 0.525550998016977, 0.13138774950424426, 0.7815659485289497, 0.5220753965994595, 0.2610376982997297, 0.13051884914986486, 0.2889157697192732, 0.5778315394385464, 0.6905241718359071, 0.626960749322577, 0.06607192950141404, 0.4625035065098982, 0.1982157885042421, 0.13214385900282807, 0.13214385900282807, 0.8597100323635114, 0.8800945233919841, 0.2533710102081871, 0.5067420204163742, 0.12668550510409354, 0.7959124709137672, 0.8242038265214648, 0.8341892368363413, 0.06250455335191406, 0.5000364268153125, 0.12500910670382812, 0.3125227667595703, 0.06250455335191406, 0.8801081436404161, 0.061167093694138, 0.9175064054120701, 0.7566554870655647, 0.9090258595780645, 0.8224085819678243, 0.9090033605943144, 0.9177774905718543, 0.8800792591901184, 0.26325307066759973, 0.5265061413351995, 0.13162653533379987, 0.6905335609442635, 0.6736219503628094, 0.8782861977036036, 0.0342593906905661, 0.04048837081612357, 0.04671735094168104, 0.8572996328498417, 0.8757288423721553, 0.0032434401569339084, 0.035677841726272995, 0.0389212818832069, 0.04865160235400862, 0.8573681704094126, 0.2621473226738882, 0.5242946453477764, 0.1310736613369441, 0.12706630998485122, 0.31766577496212806, 0.31766577496212806, 0.12706630998485122, 0.06353315499242561, 0.8573797557402276, 0.8761674537624495, 0.5854354361917058, 0.14635885904792645, 0.14635885904792645, 0.7538343634594075, 0.8850676343435022, 0.4943831315771746, 0.16479437719239154, 0.16479437719239154, 0.6306233617618948, 0.949121848029749, 0.8658854790541445, 0.32591507888789983, 0.5431917981464996, 0.10863835962929994, 0.8850676343435022, 0.26273131543486555, 0.5254626308697311, 0.13136565771743278, 0.21534061394904414, 0.43068122789808827, 0.21534061394904414, 0.10767030697452207, 0.26285508803114593, 0.5257101760622919, 0.13142754401557297, 0.8573240545589779, 0.48475958381236806, 0.9090344295022552, 0.9091603699998783, 0.8280217451837486, 0.880104904295974, 0.26267288594047905, 0.5253457718809581, 0.13133644297023953, 0.8242962955840231, 0.8689258214497274, 0.8773803859730862, 0.034592058228329566, 0.03773679079454134, 0.04717098849317668, 0.6111965548626821, 0.8573777269929062, 0.2599057358421753, 0.34654098112290044, 0.08663524528072511, 0.34654098112290044, 0.8633956323345249, 0.8686955958321847, 0.8850676343435022, 0.7412740829122962, 0.878307120969379, 0.0342602068463233, 0.04048933536383662, 0.04671846388134995, 0.9090487187305863, 0.6269447452286648, 0.8633832878454317, 0.6269443197624465, 0.7994107538441539, 0.3376988074183409, 0.6753976148366818, 0.8262875502331821, 0.4972992163617639, 0.09673054159964475, 0.3385568955987566, 0.29019162479893423, 0.14509581239946712, 0.09673054159964475, 0.867792500009088, 0.5588720271672599, 0.11129879251592376, 0.445195170063695, 0.445195170063695, 0.11129879251592376, 0.07265821690182148, 0.6175948436654826, 0.07265821690182148, 0.14531643380364295, 0.10898732535273221, 0.12990636254429805, 0.12990636254429805, 0.6495318127214902, 0.2598127250885961, 0.8850676343435022, 0.8774313968249244, 0.03484384608330025, 0.03801146845450937, 0.0475143355681367, 0.2632623570467278, 0.5265247140934556, 0.1316311785233639, 0.8280655711172492, 0.7697290596632069, 0.8723959547246061, 0.0032920602065079473, 0.03621266227158742, 0.03950472247809537, 0.046088842891111266, 0.480848224662856, 0.1726151395537102, 0.0863075697768551, 0.5178454186611307, 0.1726151395537102, 0.8074718043812273, 0.8758131883339436, 0.623361801780437, 0.15584045044510925, 0.15584045044510925, 0.18585591132682241, 0.18585591132682241, 0.7434236453072897, 0.11510056892988509, 0.46040227571954034, 0.34530170678965527, 0.11510056892988509, 0.793135328206977, 0.7372681533290896, 0.7052542677691187, 0.8713579595213097, 0.8721127210828866, 0.034745526736369985, 0.04169463208364398, 0.04864373743091798], \"Term\": [\".\", \".\", \".\", \".\", \".\", \"...\", \"...\", \"...\", \"...\", \"Advaidism\", \"Angle\", \"Antifa\", \"Antifa\", \"Antifa\", \"As\", \"Athletics\", \"BlackLivesMatter\", \"BlackLivesMatter\", \"BlackLivesMatter\", \"BlackLivesMatter\", \"BlackLivesMatter\", \"BlackTransLivesMatter\", \"BollywoodCricket\", \"BornoMassacre\", \"Celebs\", \"CheriDiNovo\", \"Christmas\", \"College\", \"DJBlackzitoun\", \"Damn\", \"Damn\", \"Damn\", \"Damn\", \"DefundThePolice\", \"DefundThePolice\", \"EndBadGovernanceinNIGERIA\", \"EndSARS\", \"EndSARS\", \"EndSARS\", \"GEORGIA\", \"Have\", \"He\", \"I\", \"I\", \"I\", \"I\", \"In\", \"In\", \"In\", \"In\", \"IndivisibleVent\", \"Its\", \"Its\", \"Its\", \"JamaalBowmanNY\", \"JamaalBowmanNY\", \"JamaalBowmanNY\", \"JamaalBowmanNY\", \"Jamaican\", \"K.\", \"KNOWS\", \"Krazy\", \"LRPow\", \"LekkiMassaccre\", \"Lets\", \"Lets\", \"MalaikaJabali\", \"Maybe\", \"Maybe\", \"Maybe\", \"MiddAthletics\", \"Middlebury\", \"Mr.\", \"Mr.\", \"Mr.\", \"Mr.\", \"NeilUKIP\", \"No\", \"No\", \"NotMoreDeportation\", \"OneHeart\", \"Oregon\", \"Peace\", \"President.Didnt\", \"President.Didnt\", \"President.Didnt\", \"President.Didnt\", \"RT\", \"RT\", \"RT\", \"RT\", \"RT\", \"ReformThePolice\", \"Respect\", \"SOUNDTRACKS\", \"SaveThe\", \"Share\", \"ShutDownBerks\", \"SocialPowerOne\", \"The\", \"The\", \"The\", \"This\", \"This\", \"This\", \"Toronto\", \"TransLivesMatter\", \"Trayvon\", \"Trayvon\", \"Trayvon\", \"Trayvon\", \"Using\", \"Wan\", \"What\", \"What\", \"Wisconsin\", \"World\", \"a\", \"a\", \"a\", \"a\", \"a\", \"account\", \"address\", \"address\", \"address\", \"affirms\", \"against\", \"against\", \"allies\", \"almost\", \"amp\", \"amp\", \"amp\", \"amp\", \"and\", \"and\", \"and\", \"and\", \"and\", \"are\", \"are\", \"are\", \"are\", \"arrogance.Long\", \"as\", \"as\", \"as\", \"be\", \"be\", \"be\", \"been\", \"been\", \"been\", \"been\", \"began\", \"brutality\", \"brutality\", \"brutality\", \"c\", \"child\", \"class\", \"clientfed\", \"community\", \"community\", \"condescending\", \"continues\", \"core\", \"coronavirus\", \"could\", \"couldve\", \"couldve\", \"couldve\", \"couldve\", \"cultural\", \"dates\", \"days\", \"deafening\", \"demand\", \"demand\", \"deported\", \"deported\", \"design\", \"did\", \"ever\", \"farmersagitation\", \"fight\", \"finally\", \"floraklarouda\", \"followers\", \"for\", \"for\", \"for\", \"for\", \"for\", \"forget\", \"foun\", \"from\", \"from\", \"from\", \"full\", \"fund\", \"global\", \"growth\", \"happened\", \"happened\", \"hard\", \"has\", \"have\", \"have\", \"have\", \"have\", \"hes\", \"hes\", \"hes\", \"him\", \"his\", \"his\", \"his\", \"https\", \"https\", \"httpst.coNEQ\", \"hurting\", \"in\", \"in\", \"in\", \"in\", \"in\", \"included\", \"inflammatory\", \"inhumane\", \"inhumane\", \"inhumane\", \"injustices\", \"instructor\", \"insufferable\", \"is\", \"is\", \"is\", \"is\", \"is\", \"jest\", \"johncardillo\", \"johncardillo\", \"kennychalk\", \"krosennw\", \"labeled\", \"legacy\", \"li\", \"lunatic\", \"michaelharriot\", \"michaelharriot\", \"michaelharriot\", \"minute\", \"movements\", \"much.In\", \"much.In\", \"much.In\", \"much.In\", \"murderer\", \"my\", \"my\", \"my\", \"my\", \"my\", \"nationals\", \"o\", \"o\", \"o\", \"of\", \"of\", \"of\", \"of\", \"of\", \"offenders\", \"old\", \"on\", \"on\", \"on\", \"one\", \"opportunities\", \"our\", \"our\", \"our\", \"over\", \"own\", \"passed\", \"people\", \"people\", \"people\", \"phonetextbankingwritingdonation\", \"phraseology\", \"phraseology\", \"phraseology\", \"racism\", \"racism\", \"racism\", \"racism\", \"radical\", \"radical\", \"radical\", \"rapists\", \"reached\", \"redlining\", \"revelation\", \"revolutionary\", \"rhetoric\", \"rightInstead\", \"rightInstead\", \"rightInstead\", \"rogue\", \"s\", \"say\", \"say\", \"say\", \"say\", \"sector\", \"sex\", \"should\", \"should\", \"should\", \"should\", \"silence\", \"since\", \"site\", \"social\", \"son\", \"son\", \"son\", \"son\", \"startling\", \"substantially\", \"supp\", \"suspended\", \"systemic\", \"talking\", \"talking\", \"teacher\", \"thanks\", \"the\", \"the\", \"the\", \"the\", \"the\", \"there\", \"thinking\", \"this\", \"this\", \"this\", \"this\", \"to\", \"to\", \"to\", \"to\", \"to\", \"today\", \"today\", \"today\", \"today\", \"tons\", \"too\", \"too\", \"too\", \"too\", \"treatment\", \"treatment\", \"treatment\", \"twitter\", \"understand\", \"was\", \"was\", \"was\", \"was\", \"was\", \"way\", \"we\", \"we\", \"we\", \"we\", \"week\", \"well\", \"where\", \"where\", \"where\", \"which\", \"which\", \"which\", \"with\", \"with\", \"with\", \"with\", \"would\", \"years\", \"yes\", \"yet\", \"you\", \"you\", \"you\", \"you\"]}, \"R\": 30, \"lambda.step\": 0.01, \"plot.opts\": {\"xlab\": \"PC1\", \"ylab\": \"PC2\"}, \"topic.order\": [2, 4, 3, 5, 1]};\n",
              "\n",
              "function LDAvis_load_lib(url, callback){\n",
              "  var s = document.createElement('script');\n",
              "  s.src = url;\n",
              "  s.async = true;\n",
              "  s.onreadystatechange = s.onload = callback;\n",
              "  s.onerror = function(){console.warn(\"failed to load library \" + url);};\n",
              "  document.getElementsByTagName(\"head\")[0].appendChild(s);\n",
              "}\n",
              "\n",
              "if(typeof(LDAvis) !== \"undefined\"){\n",
              "   // already loaded: just create the visualization\n",
              "   !function(LDAvis){\n",
              "       new LDAvis(\"#\" + \"ldavis_el561403275838352647914288670\", ldavis_el561403275838352647914288670_data);\n",
              "   }(LDAvis);\n",
              "}else if(typeof define === \"function\" && define.amd){\n",
              "   // require.js is available: use it to load d3/LDAvis\n",
              "   require.config({paths: {d3: \"https://cdnjs.cloudflare.com/ajax/libs/d3/3.5.5/d3.min\"}});\n",
              "   require([\"d3\"], function(d3){\n",
              "      window.d3 = d3;\n",
              "      LDAvis_load_lib(\"https://cdn.rawgit.com/bmabey/pyLDAvis/files/ldavis.v1.0.0.js\", function(){\n",
              "        new LDAvis(\"#\" + \"ldavis_el561403275838352647914288670\", ldavis_el561403275838352647914288670_data);\n",
              "      });\n",
              "    });\n",
              "}else{\n",
              "    // require.js not available: dynamically load d3 & LDAvis\n",
              "    LDAvis_load_lib(\"https://cdnjs.cloudflare.com/ajax/libs/d3/3.5.5/d3.min.js\", function(){\n",
              "         LDAvis_load_lib(\"https://cdn.rawgit.com/bmabey/pyLDAvis/files/ldavis.v1.0.0.js\", function(){\n",
              "                 new LDAvis(\"#\" + \"ldavis_el561403275838352647914288670\", ldavis_el561403275838352647914288670_data);\n",
              "            })\n",
              "         });\n",
              "}\n",
              "</script>"
            ],
            "text/plain": [
              "<IPython.core.display.HTML object>"
            ]
          },
          "metadata": {
            "tags": []
          },
          "execution_count": 26
        }
      ]
    },
    {
      "cell_type": "markdown",
      "metadata": {
        "id": "WXoRiZ8Batdf"
      },
      "source": [
        "###########################################################################\n"
      ]
    },
    {
      "cell_type": "code",
      "metadata": {
        "colab": {
          "base_uri": "https://localhost:8080/"
        },
        "id": "-nfWL9iZJGmD",
        "outputId": "86523096-fd2c-40cd-c0f0-526e57511dea"
      },
      "source": [
        "from pyspark.sql.functions import lit\n",
        "\n",
        "neg=sc.textFile(\"/content/negative-words.txt\")\n",
        "temp_var = neg.map(lambda k: k.split(\"\\\\t\"))\n",
        "neg_df = temp_var.toDF()\n",
        "neg_df= neg_df.withColumn('sentiment',lit(-1))\n",
        "\n",
        "### positive words\n",
        "pos=sc.textFile(\"/content/positive-words.txt\")\n",
        "temp_var_pos = pos.map(lambda k: k.split(\"\\\\t\"))\n",
        "pos_df = temp_var_pos.toDF()\n",
        "pos_df= pos_df.withColumn('sentiment',lit(1))\n",
        "\n",
        "#### concat both\n",
        "words_concat = pos_df.union(neg_df)\n",
        "columns = ['word','sentiment']\n",
        "words = words_concat.toDF(*columns)\n",
        "words.show(5)"
      ],
      "execution_count": null,
      "outputs": [
        {
          "output_type": "stream",
          "text": [
            "+---------+---------+\n",
            "|     word|sentiment|\n",
            "+---------+---------+\n",
            "|       a+|        1|\n",
            "|   abound|        1|\n",
            "|  abounds|        1|\n",
            "|abundance|        1|\n",
            "| abundant|        1|\n",
            "+---------+---------+\n",
            "only showing top 5 rows\n",
            "\n"
          ],
          "name": "stdout"
        }
      ]
    },
    {
      "cell_type": "code",
      "metadata": {
        "colab": {
          "base_uri": "https://localhost:8080/"
        },
        "id": "rKk1BJrBJHRQ",
        "outputId": "95ae5a9a-565a-4c69-8dd9-88c894199c68"
      },
      "source": [
        "#Joining tweets with Liu Bing word sets to obtain the sentiment of each word\n",
        "\n",
        "join_df = tokenized_df.\\\n",
        "    select('Tweet_content', F.explode('words').alias('word')).\\\n",
        "    join(words, 'word')\n",
        "join_df.show(10)"
      ],
      "execution_count": null,
      "outputs": [
        {
          "output_type": "stream",
          "text": [
            "+------------+--------------------+---------+\n",
            "|        word|       Tweet_content|sentiment|\n",
            "+------------+--------------------+---------+\n",
            "|inflammatory|RT LRPow In jest ...|       -1|\n",
            "|inflammatory|RT LRPow In jest ...|       -1|\n",
            "|inflammatory|RT LRPow In jest ...|       -1|\n",
            "|inflammatory|RT LRPow In jest ...|       -1|\n",
            "|inflammatory|RT LRPow In jest ...|       -1|\n",
            "|inflammatory|RT LRPow In jest ...|       -1|\n",
            "|inflammatory|RT LRPow In jest ...|       -1|\n",
            "|inflammatory|RT LRPow In jest ...|       -1|\n",
            "|inflammatory|RT LRPow In jest ...|       -1|\n",
            "|inflammatory|RT LRPow In jest ...|       -1|\n",
            "+------------+--------------------+---------+\n",
            "only showing top 10 rows\n",
            "\n"
          ],
          "name": "stdout"
        }
      ]
    },
    {
      "cell_type": "code",
      "metadata": {
        "colab": {
          "base_uri": "https://localhost:8080/"
        },
        "id": "XCyaPL6WJJ_D",
        "outputId": "ffa3fdea-6f90-4352-dad1-8946bac966b0"
      },
      "source": [
        "#Grouping sentiments by tweets and using sum of the sentiments as score\n",
        "score_df = join_df.\\\n",
        "    groupBy('Tweet_content').\\\n",
        "    agg(F.sum('sentiment').alias('Sentiment_score'))\n",
        "\n",
        "score_df.sort(F.col('Sentiment_score').desc()).show(5)"
      ],
      "execution_count": null,
      "outputs": [
        {
          "output_type": "stream",
          "text": [
            "+--------------------+---------------+\n",
            "|       Tweet_content|Sentiment_score|\n",
            "+--------------------+---------------+\n",
            "|RT KingJames This...|             57|\n",
            "|RT ESPNcricinfo W...|             40|\n",
            "|RT Inhumansoflate...|             26|\n",
            "|RT RichardKomolaf...|             22|\n",
            "|RT GadZook Its ea...|             18|\n",
            "+--------------------+---------------+\n",
            "only showing top 5 rows\n",
            "\n"
          ],
          "name": "stdout"
        }
      ]
    },
    {
      "cell_type": "code",
      "metadata": {
        "id": "3gdEMtyhJMz_"
      },
      "source": [
        "final_tweets = tokenized_df.\\\n",
        "    select(F.col('Tweets'),F.col('Hashtags'),F.col('Tweet_content')).\\\n",
        "    join(score_df, 'Tweet_content',)"
      ],
      "execution_count": null,
      "outputs": []
    },
    {
      "cell_type": "code",
      "metadata": {
        "colab": {
          "base_uri": "https://localhost:8080/"
        },
        "id": "A3eFmiM5JPau",
        "outputId": "66466fa4-add5-46cd-8b02-5be5936d9a1e"
      },
      "source": [
        "final_tweets.select('Tweets','Sentiment_score','Hashtags').distinct().sort(F.col('Sentiment_score').desc()).show(5,False)"
      ],
      "execution_count": null,
      "outputs": [
        {
          "output_type": "stream",
          "text": [
            "+---------------------------------------------------------------------------------------------------------------------------------------------+---------------+----------------+\n",
            "|Tweets                                                                                                                                       |Sentiment_score|Hashtags        |\n",
            "+---------------------------------------------------------------------------------------------------------------------------------------------+---------------+----------------+\n",
            "|RT @KingJames: This Queen was such a huge part of @Morethanavote.  So great to see her being recognized for changing the world.  #Blacklive… |57             |Blacklive       |\n",
            "|RT @ESPNcricinfo: West Indies captain Jason Holder is pleased with the support that New Zealand have shown for #BlackLivesMatter and the fi… |40             |BlackLivesMatter|\n",
            "|RT @Inhumansoflate1: Oh here’s Biden’s new openly fascist we  cabinet member . glad you voters got rid of the fascists #antifa #antifascism… |26             |antifa          |\n",
            "|RT @RichardKomolafe: Respect ✊🏽 for mothers #mother #Respect #kitchen #Food #wednesdaythought #WhyMenRejectSex #48MPCamera #ICanWithAbsa #N…|22             |mother          |\n",
            "|RT @rabiasquared: I get Obama's point, advocacy needs smart marketing. But #BlackLivesMatter proves that the best \"marketing\" is sometimes…  |18             |BlackLivesMatter|\n",
            "+---------------------------------------------------------------------------------------------------------------------------------------------+---------------+----------------+\n",
            "only showing top 5 rows\n",
            "\n"
          ],
          "name": "stdout"
        }
      ]
    },
    {
      "cell_type": "code",
      "metadata": {
        "id": "T1ggc0ugPvl5"
      },
      "source": [
        "cluster_df = final_tweets.select('Hashtags','Sentiment_score').distinct().sort(F.col('Sentiment_score'))"
      ],
      "execution_count": null,
      "outputs": []
    },
    {
      "cell_type": "code",
      "metadata": {
        "colab": {
          "base_uri": "https://localhost:8080/",
          "height": 265
        },
        "id": "-PCY4d8pXhJi",
        "outputId": "5eecb5c1-b8df-4c32-891b-16a41ae2bbf9"
      },
      "source": [
        "import matplotlib.pyplot as plt\n",
        "import numpy as np\n",
        "\n",
        "#htags = np.array([val.Hashtags for val in cluster_df.select('Hashtags').collect()])\n",
        "#scores_sent = np.array([val.Sentiment_score for val in cluster_df.select('Sentiment_score').collect()])\n",
        "\n",
        "htags = [val.Hashtags for val in cluster_df.select('Hashtags').collect()]\n",
        "scores_sent = [val.Sentiment_score for val in cluster_df.select('Sentiment_score').collect()]\n",
        "\n",
        "#Pop based on outliers found to get a better image.\n",
        "htags.pop(0)\n",
        "scores_sent.pop(0)\n",
        "htags.pop(0)\n",
        "scores_sent.pop(0)\n",
        "htags.pop(0)\n",
        "scores_sent.pop(0)\n",
        "\n",
        "plt.plot(scores_sent, htags, 'bo')\n",
        "plt.show()"
      ],
      "execution_count": null,
      "outputs": [
        {
          "output_type": "display_data",
          "data": {
            "image/png": "[encoded data removed]",
            "text/plain": [
              "<Figure size 432x288 with 1 Axes>"
            ]
          },
          "metadata": {
            "tags": [],
            "needs_background": "light"
          }
        }
      ]
    },
    {
      "cell_type": "code",
      "metadata": {
        "id": "mOVGSaykYF8c"
      },
      "source": [
        "scores_scaled = np.interp(np.array(scores_sent), (np.array(scores_sent).min(), np.array(scores_sent).max()), (-10,+10))\n",
        "\n",
        "plt.plot(scores_scaled, htags, 'bo')\n",
        "plt.show()"
      ],
      "execution_count": null,
      "outputs": []
    }
  ]
}